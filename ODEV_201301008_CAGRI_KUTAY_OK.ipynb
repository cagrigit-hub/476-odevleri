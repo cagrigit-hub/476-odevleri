{
 "cells": [
  {
   "cell_type": "markdown",
   "id": "f33d3ff6",
   "metadata": {},
   "source": [
    "# SORU 1 - BLOOM FILTER"
   ]
  },
  {
   "cell_type": "code",
   "execution_count": 70,
   "id": "9c34b607",
   "metadata": {},
   "outputs": [],
   "source": [
    "from bitarray import bitarray #bitarray kütüphanesinden import ettim\n",
    "from matplotlib import pyplot as plt # grafik çizmek için\n",
    "import re #yabancı kelimelerden temizlemek için"
   ]
  },
  {
   "cell_type": "markdown",
   "id": "97716492",
   "metadata": {},
   "source": [
    "# Hash Fonksiyonlarım\n"
   ]
  },
  {
   "cell_type": "markdown",
   "id": "1af5456c",
   "metadata": {},
   "source": [
    "Normalde buraya bir formül yerleştirmiştim (hash_idye göre değişen) fakat soruda 1-3 arası varsayabilirsiniz diyordu o yüzden sabit formüller koydum, daha iyi hash elde etmek adına. Hashlerken asal sayıları kullanmak bize daha doğru ve daha az çakışan hash değerleri vermektedir, bu yüzden ax+b -> hash fonksiyonunda a'yı tek sayı b yide a'dan küçük asal sayı seçmeye özen gösteririz. Tum karakterlerin ASCİİ değerini toplayıp hash fonksiyonunda döndüren bir fonksiyon topluluğu yazdım"
   ]
  },
  {
   "cell_type": "code",
   "execution_count": 71,
   "id": "61d35f59",
   "metadata": {},
   "outputs": [],
   "source": [
    "#hash_id -> hash_fonksiyonu_sayisi'ni for loop ile dönersek her bir index değeri. Örneğin 3 için 0,1,2.\n",
    "\n",
    "\n",
    "def hash_function(hash_id,key,array_uzunlugu):\n",
    "    \n",
    "    if(hash_id == 0):\n",
    "    \n",
    "        h = 0\n",
    "        for char in key:\n",
    "            h += ord(char)\n",
    "            \n",
    "        return (h*17+5) % array_uzunlugu\n",
    "    elif(hash_id == 1):\n",
    "       \n",
    "        \n",
    "        h = 0\n",
    "        for char in key:\n",
    "            h += ord(char)\n",
    "            \n",
    "        return (h*23-7) % array_uzunlugu\n",
    "    else:\n",
    "       \n",
    "        \n",
    "        h = 0\n",
    "        for char in key:\n",
    "            h += ord(char)\n",
    "            \n",
    "        return (h*19+2) % array_uzunlugu\n",
    "    \n"
   ]
  },
  {
   "cell_type": "code",
   "execution_count": 72,
   "id": "0fc9721d",
   "metadata": {},
   "outputs": [],
   "source": [
    "## BURAYI TAMAMEN REGEX BİLDİĞİMİ GÖSTERMEK İÇİN ATIYORUM, ÖDEVİ TAM DOĞRU OKUYAMAMIŞIM.\n",
    "## SON ANDA FARK ETTİM TÜRKÇE KARAKTERLERİ AYIRMAMI İSTEDİĞİNİZİ\n",
    "## BU YÜZDEN BİLDİĞİME DAİR BUNU BURAYA EKLİYORUM ANLAYIŞINIZA SIĞINIYORUM.\n",
    "\n",
    "def REGEX_BILIYORUM(filtreye_takilanlar,spam_file):\n",
    "    sayi = 0\n",
    "    spam = \"\"\n",
    "    with open(spam_file , \"r+\" , encoding=\"utf-8\") as f:\n",
    "        spam = f.read()\n",
    "    clean_spam = re.sub(r'^a-zA-Z\\r\\t\\n' , '' , spam)\n",
    "    lowered_spam = clean_spam.lower()\n",
    "    final_spam = \" \".join(lowered_spam.split())\n",
    "    final_spam = final_spam.split(\" \")\n",
    "\n",
    "            \n"
   ]
  },
  {
   "cell_type": "code",
   "execution_count": 73,
   "id": "773b8287",
   "metadata": {},
   "outputs": [],
   "source": [
    "def bloom_filter(spam_list, test_dosyasi,filtre_arrayin_uzunlugu, hash_fonksiyon_sayisi):\n",
    "    bit_array = bitarray(filtre_arrayin_uzunlugu) \n",
    "    # Burada filtre olarak kullanacağımız bit arrayi implement ediyoruz.\n",
    "    \n",
    "    bit_array.setall(0) \n",
    "    # Bit arrayimizdeki her değeri 0 olarak atıyoruz. Spam Listteki kelimeleri hashleyip buraya yerleştireceğiz\n",
    "    \n",
    "    spam_set = set() \n",
    "    # Bu seti bilerek kurdum çünkü en sonda false positivelere bakarken 2 tane array karşılaştırması yaparsak\n",
    "    # O(n^2) run time bir algoritma elde edeceğiz ve çok verimsiz olacak onun yerine spam kelimeleri bir set'e atayacağım\n",
    "    # böylece en son false positiveleri ayrıştırırken O(n) run time'a sahip olacak algoritmamız.\n",
    "    \n",
    "    # Burada r+, utf-8 encoding ile spam_listimizi açıyorum ve spam_array oluşturuyorum bu arrayi filtrede kullanacağız.\n",
    "    spam_array = [] # Spam array initialize edildi\n",
    "    with open(spam_list , \"r+\" , encoding=\"utf-8\") as f:\n",
    "        spam_array = f.readlines()\n",
    "        \n",
    "    # Burada spam sayılan bütün kelimeleri bitarrayimize hashleyip ilgini pozisyona yazarak, \n",
    "    # asıl metinimizde spam kelimeler var mı bunun karşılaştırmasını yapacağız. \n",
    "    for word in spam_array:\n",
    "        # Burada hash_fonksiyon_sayisi kadar hashleyip bit arrayde ilgili pozisyonlara 1 yazdık.\n",
    "        for hash_id in range(hash_fonksiyon_sayisi):\n",
    "            hashed_index = hash_function(hash_id,word,filtre_arrayin_uzunlugu)\n",
    "            bit_array[hashed_index] = 1\n",
    "    \n",
    "    \n",
    "    words_array = [] # Words array initialize edildi\n",
    "    # Burada incelenecek dosyayı okuyarak bir array'e kelimeleri aktarıyorum.\n",
    "    with open(test_dosyasi,\"r+\" , encoding=\"utf-8\") as f:\n",
    "        words_array = f.readlines()\n",
    "    \n",
    "    filtreye_takilanlar = []\n",
    "    #Bu words arrayindeki her bir kelimeyi hashleyerek bitarrayimizde ilgili pozisyonlarda var mı diye kontrol ediyoruz.\n",
    "    for word in words_array:\n",
    "        # Bu filtreyi geçti mi geçmedi mi bakmak için oluşturduğumuz bir boolean , False boolean değerini veriyoruz.\n",
    "        # Filtreye takılanları bu bool ile yakalayacağız.\n",
    "        passed = False\n",
    "        for hash_id in range(hash_fonksiyon_sayisi):\n",
    "                # Aynı hash işlemini uygulayıp bit array'de var mı diye bakıyoruz, eğer 1 tane bile hash pozisyonunda yoksa\n",
    "                # Bu kelime filtreye takılmadan geçebilir demektir. Eğer 3ünde de varsa zaten passed değişkeni True kalacak\n",
    "                # Birinde bile varsa break yaparak gereksiz iterationları engelledik.\n",
    "                hashed_index = hash_function(hash_id,word,filtre_arrayin_uzunlugu)\n",
    "                if(bit_array[hashed_index] == 0):\n",
    "                    passed = True\n",
    "                    break\n",
    "        # Eğer filtreye takıldıysa\n",
    "        \n",
    "        \n",
    "        if (not passed):\n",
    "            # Burada en son false positive ayrıştırması yapmak için filtereye takılanları bir array halinde tutuyoruz\n",
    "            filtreye_takilanlar.append(word)\n",
    "            # Filtreye takılanları append modunda yeni bir dosyaya yazıyoruz\n",
    "            with open(\"filtreye_takilanlar.txt\" , \"a\" , encoding=\"utf-8\") as f2:\n",
    "                f2.write(word)\n",
    "                \n",
    "\n",
    "    ####\n",
    "    false_positive_array = []\n",
    "    for word in filtreye_takilanlar:\n",
    "        if word not in spam_set:\n",
    "            false_positive_array.append(word)\n",
    "            \n",
    "    return len(false_positive_array)\n",
    "            \n",
    "    "
   ]
  },
  {
   "cell_type": "code",
   "execution_count": 74,
   "id": "af10b84f",
   "metadata": {},
   "outputs": [
    {
     "data": {
      "text/plain": [
       "1938"
      ]
     },
     "execution_count": 74,
     "metadata": {},
     "output_type": "execute_result"
    }
   ],
   "source": [
    "bloom_filter(\"filtrelenecek_kelimeler_2.txt\",\"test_dosyasi_2.txt\",1000,1)"
   ]
  },
  {
   "cell_type": "code",
   "execution_count": 75,
   "id": "061baf17",
   "metadata": {
    "scrolled": true
   },
   "outputs": [
    {
     "data": {
      "text/plain": [
       "[<matplotlib.lines.Line2D at 0x1a14173dd60>]"
      ]
     },
     "execution_count": 75,
     "metadata": {},
     "output_type": "execute_result"
    },
    {
     "data": {
      "image/png": "[encoded data removed]",
      "text/plain": [
       "<Figure size 432x288 with 1 Axes>"
      ]
     },
     "metadata": {
      "needs_background": "light"
     },
     "output_type": "display_data"
    }
   ],
   "source": [
    "one_hash = bloom_filter(\"filtrelenecek_kelimeler_2.txt\",\"test_dosyasi_2.txt\",1000,1)\n",
    "\n",
    "two_hash = bloom_filter(\"filtrelenecek_kelimeler_2.txt\",\"test_dosyasi_2.txt\",1000,2)\n",
    "three_hash= bloom_filter(\"filtrelenecek_kelimeler_2.txt\",\"test_dosyasi_2.txt\",1000,3)\n",
    "\n",
    "\n",
    "plt.plot([1,2,3],[one_hash,two_hash,three_hash])"
   ]
  },
  {
   "cell_type": "code",
   "execution_count": 76,
   "id": "dc1dccb8",
   "metadata": {},
   "outputs": [],
   "source": [
    "def word_count(file):\n",
    "    words = \"\"\n",
    "    \n",
    "    with open(file,\"r+\" , encoding=\"utf-8\") as f:\n",
    "        words = f.read()\n",
    "    words = re.sub(r'^a-zA-Z\\r\\t\\n' , '' , words)\n",
    "    words = words.lower()\n",
    "    words = \" \".join(words.split())\n",
    "    words = words.split(\" \")\n",
    "    return len(words)"
   ]
  },
  {
   "cell_type": "code",
   "execution_count": 77,
   "id": "6ac1e1b9",
   "metadata": {},
   "outputs": [
    {
     "data": {
      "image/png": "[encoded data removed]",
      "text/plain": [
       "<Figure size 432x288 with 1 Axes>"
      ]
     },
     "metadata": {
      "needs_background": "light"
     },
     "output_type": "display_data"
    },
    {
     "data": {
      "image/png": "[encoded data removed]",
      "text/plain": [
       "<Figure size 432x288 with 1 Axes>"
      ]
     },
     "metadata": {
      "needs_background": "light"
     },
     "output_type": "display_data"
    },
    {
     "data": {
      "image/png": "[encoded data removed]",
      "text/plain": [
       "<Figure size 432x288 with 1 Axes>"
      ]
     },
     "metadata": {
      "needs_background": "light"
     },
     "output_type": "display_data"
    }
   ],
   "source": [
    "hashler = [1,2,3]\n",
    "kat_sayilar = [2,4,8,16]\n",
    "\n",
    "\n",
    "for _hash in hashler:\n",
    "    false_positives = []\n",
    "    for kat in kat_sayilar:\n",
    "        false_positive_n = bloom_filter(\"filtrelenecek_kelimeler_2.txt\",\"test_dosyasi_2.txt\",word_count(\"test_dosyasi_2.txt\")*kat,_hash)\n",
    "\n",
    "        false_positives.append(false_positive_n)\n",
    "        \n",
    "        \n",
    "    plt.title(\"False Positiveler\")\n",
    "    plt.plot(kat_sayilar,false_positives)\n",
    "    plt.show()\n",
    "        \n",
    "        "
   ]
  },
  {
   "cell_type": "markdown",
   "id": "daad0513",
   "metadata": {},
   "source": [
    "# SORU 2 - FLAJOLET-MARTIN"
   ]
  },
  {
   "cell_type": "code",
   "execution_count": 105,
   "id": "0da4330a",
   "metadata": {},
   "outputs": [],
   "source": [
    "\n",
    "def word_counter(doc):\n",
    "    with open(\"ornek_dosya.txt\" , \"r+\" , encoding=\"utf-8\") as f:\n",
    "        words = f.readlines()\n",
    "        return [len(f.read().split()) , f.readlines()]"
   ]
  },
  {
   "cell_type": "code",
   "execution_count": 106,
   "id": "53b54146",
   "metadata": {},
   "outputs": [
    {
     "data": {
      "text/plain": [
       "[4, ['Bu', 'bir', 'örnek', 'dosyadır']]"
      ]
     },
     "execution_count": 106,
     "metadata": {},
     "output_type": "execute_result"
    }
   ],
   "source": [
    "word_counter(\"ornek_dosya.txt\")"
   ]
  },
  {
   "cell_type": "code",
   "execution_count": 107,
   "id": "707eb7c8",
   "metadata": {},
   "outputs": [],
   "source": [
    "def hash_function(hash_id,key):\n",
    "    \n",
    "    if(hash_id == 0):\n",
    "    \n",
    "        h = 0\n",
    "        for char in key:\n",
    "            h += ord(char)\n",
    "            \n",
    "        return (h*17+5) % 32\n",
    "    elif(hash_id == 1):\n",
    "       \n",
    "        \n",
    "        h = 0\n",
    "        for char in key:\n",
    "            h += ord(char)\n",
    "            \n",
    "        return (h*23+9) % 12\n",
    "    elif(hash_id == 2):\n",
    "       \n",
    "        \n",
    "        h = 0\n",
    "        for char in key:\n",
    "            h += ord(char)\n",
    "            \n",
    "        return (h*23+4) % 12\n",
    "    elif(hash_id == 3):\n",
    "       \n",
    "        \n",
    "        h = 0\n",
    "        for char in key:\n",
    "            h += ord(char)\n",
    "            \n",
    "        return (h*23-7) % 12\n",
    "    elif(hash_id == 4):\n",
    "       \n",
    "        \n",
    "        h = 0\n",
    "        for char in key:\n",
    "            h += ord(char)\n",
    "            \n",
    "        return (h*22-1) % 13\n",
    "    else:\n",
    "       \n",
    "        \n",
    "        h = 0\n",
    "        for char in key:\n",
    "            h += ord(char)\n",
    "            \n",
    "        return (h*3+2) % 22\n",
    "    \n"
   ]
  },
  {
   "cell_type": "code",
   "execution_count": 108,
   "id": "77a3c986",
   "metadata": {},
   "outputs": [
    {
     "name": "stdout",
     "output_type": "stream",
     "text": [
      "distict elements 8\n"
     ]
    }
   ],
   "source": [
    "maxnum=0\n",
    "for i in range(0,word_counter(\"ornek_dosya.txt\")[0]):\n",
    "    val= bin(hash_function(i%5,word_counter(\"ornek_dosya.txt\")[1][i]))[2:]\n",
    "    \n",
    "    sum=0\n",
    "    for j in range(len(val)-1,0,-1):\n",
    "        \n",
    "        if val[j]=='0':\n",
    "            sum+=1\n",
    "        else:\n",
    "            break\n",
    "    if sum>maxnum:\n",
    "        maxnum=sum\n",
    "        \n",
    "print('distict elements', 2**maxnum)"
   ]
  },
  {
   "cell_type": "code",
   "execution_count": null,
   "id": "dbd4c7c4",
   "metadata": {},
   "outputs": [],
   "source": []
  }
 ],
 "metadata": {
  "kernelspec": {
   "display_name": "Python 3 (ipykernel)",
   "language": "python",
   "name": "python3"
  },
  "language_info": {
   "codemirror_mode": {
    "name": "ipython",
    "version": 3
   },
   "file_extension": ".py",
   "mimetype": "text/x-python",
   "name": "python",
   "nbconvert_exporter": "python",
   "pygments_lexer": "ipython3",
   "version": "3.9.12"
  }
 },
 "nbformat": 4,
 "nbformat_minor": 5
}
